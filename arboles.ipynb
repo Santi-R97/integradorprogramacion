{
 "cells": [
  {
   "metadata": {
    "ExecuteTime": {
     "end_time": "2025-06-09T15:03:03.836494Z",
     "start_time": "2025-06-09T15:02:59.572071Z"
    }
   },
   "cell_type": "code",
   "source": [
    "class Expresion:\n",
    "    def evaluar(self):\n",
    "        raise Exception(\"Tiene que implementarlo la subclase\")\n",
    "\n",
    "    def calcular_ancho(self):\n",
    "        raise Exception(\"Tiene que implementarlo la subclase\")\n",
    "\n",
    "class Valor(Expresion):\n",
    "    def __init__(self, valor):\n",
    "        self.valor = valor\n",
    "\n",
    "    def calcular_ancho(self):\n",
    "        return 1\n",
    "\n",
    "    def evaluar(self):\n",
    "        return self.valor\n",
    "\n",
    "    def __str__(self):\n",
    "        return str(self.valor)\n",
    "\n",
    "class ExpresionDoble(Expresion):\n",
    "    def __init__(self, exp1, exp2):\n",
    "        self.exp_izquierda = exp1\n",
    "        self.exp_derecha = exp2\n",
    "\n",
    "    def operador(self):\n",
    "        raise Exception(\"Tiene que implementarlo la subclase\")\n",
    "\n",
    "    def calcular_ancho(self):\n",
    "        return self.exp_izquierda.calcular_ancho() + self.exp_derecha.calcular_ancho()\n",
    "\n",
    "    def __str__(self):\n",
    "        ancho_del_arbol = self.calcular_ancho()\n",
    "        resultado = str(self.evaluar())\n",
    "        ancho_resultado = len(resultado) // 2\n",
    "        padding = ancho_del_arbol * 2\n",
    "        linea_resultado = f\"({resultado}) \".rjust(padding + ancho_resultado)\n",
    "        linea_operador = f\"({self.operador()}) \".rjust(padding)\n",
    "        linea_de_ramas = \"/   \\\\\".rjust(padding)\n",
    "\n",
    "        # Necesitamos dividir las líneas para poder poner la expresion izquierda y derechas\n",
    "        # en el mismo renglón en la consola\n",
    "        lineas_expresion_1 = str(self.exp_izquierda).splitlines()\n",
    "        lineas_expresion_2 = str(self.exp_derecha).splitlines()\n",
    "        cantidad_de_lineas_de_la_expresion_mas_larga = max(len(lineas_expresion_1), len(lineas_expresion_2))\n",
    "        todas_las_lineas = []\n",
    "        for linea in range(cantidad_de_lineas_de_la_expresion_mas_larga):\n",
    "            # si una línea es más larga que la otra ponemos un string vacío\n",
    "            linea_exp_izquierda = lineas_expresion_1[linea] if linea < len(lineas_expresion_1) else \"\"\n",
    "            linea_exp_derecha = lineas_expresion_2[linea] if linea < len(lineas_expresion_2) else \"\"\n",
    "            # si tenemos un valor a la izquierda, agregamos padding mínimo\n",
    "            # sino el ancho que tenga el árbol\n",
    "            padding_centro = 3 if linea_exp_derecha.isnumeric()  else ancho_del_arbol\n",
    "            padding_izquierda = 0 if linea_exp_derecha.isnumeric()  else ancho_del_arbol\n",
    "            padding_derecha = 0 if linea_exp_izquierda.isnumeric() else ancho_del_arbol\n",
    "            # ajustamos las lineas con el padding\n",
    "            linea_exp_izquierda = linea_exp_izquierda.rjust(padding_izquierda)\n",
    "            linea_exp_derecha = linea_exp_derecha.ljust(padding_derecha)\n",
    "            todas_las_lineas.append(f\"{linea_exp_izquierda}{\" \" * padding_centro}{linea_exp_derecha}\")\n",
    "\n",
    "        return (f\"{linea_resultado}\\n\"+\n",
    "                f\"{linea_operador}\\n\"+\n",
    "                f\"{linea_de_ramas}\\n\"+\n",
    "                '\\n'.join(todas_las_lineas))\n",
    "\n",
    "class Suma(ExpresionDoble):\n",
    "\n",
    "    def operador(self):\n",
    "        return \"+\"\n",
    "\n",
    "    def evaluar(self):\n",
    "        # evaluamos ambas expresiones y sumamos\n",
    "        return self.exp_izquierda.evaluar() + self.exp_derecha.evaluar()\n",
    "\n",
    "class Resta(ExpresionDoble):\n",
    "\n",
    "    def operador(self):\n",
    "        return \"-\"\n",
    "\n",
    "    def evaluar(self):\n",
    "        # evaluamos ambas expresiones y restamos\n",
    "        return self.exp_izquierda.evaluar() - self.exp_derecha.evaluar()\n",
    "\n",
    "class Multiplicacion(ExpresionDoble):\n",
    "\n",
    "    def operador(self):\n",
    "        return \"*\"\n",
    "\n",
    "    def evaluar(self):\n",
    "        # evaluamos ambas expresiones y multiplocamos\n",
    "        return self.exp_izquierda.evaluar() * self.exp_derecha.evaluar()\n",
    "\n",
    "class Division(ExpresionDoble):\n",
    "\n",
    "    def operador(self):\n",
    "        return \"/\"\n",
    "\n",
    "    def evaluar(self):\n",
    "        # evaluamos ambas expresiones y dividimos\n",
    "        return self.exp_izquierda.evaluar() / self.exp_derecha.evaluar()"
   ],
   "id": "3c4d4dc1e36c08b1",
   "outputs": [],
   "execution_count": 17
  },
  {
   "metadata": {},
   "cell_type": "code",
   "outputs": [],
   "execution_count": null,
   "source": "",
   "id": "bb4e7d028ed5af8c"
  },
  {
   "metadata": {},
   "cell_type": "markdown",
   "source": [
    "![Árbol binario que representa la operación matemática (3+5) x (2-1)](img_1.png)\n",
    "\n",
    "Figura 8. Árbol binario que representa la operación matemática (3+5) x (2-1).\n"
   ],
   "id": "5de61a054973ced3"
  },
  {
   "metadata": {
    "ExecuteTime": {
     "end_time": "2025-06-09T14:54:14.278495Z",
     "start_time": "2025-06-09T14:54:14.273370Z"
    }
   },
   "cell_type": "code",
   "source": [
    "\n",
    "suma = Suma(\n",
    "    Division(\n",
    "        Valor(-6),\n",
    "        Valor(-3)\n",
    "    ),\n",
    "    Multiplicacion(\n",
    "        Resta(\n",
    "            Valor(96),\n",
    "            Valor(12)\n",
    "        ),\n",
    "        Valor(23)\n",
    "    )\n",
    ")\n",
    "print(f\"El resultado de la suma es {suma.evaluar()}\")\n",
    "print(suma)"
   ],
   "id": "c84c18725577d237",
   "outputs": [
    {
     "name": "stdout",
     "output_type": "stream",
     "text": [
      "El resultado de la suma es 1934.0\n",
      "    (1934.0) \n",
      "      (+) \n",
      "     /   \\\n",
      "(2.0)       (1932) \n",
      " (/)        (*) \n",
      "/   \\      /   \\\n",
      "-6  -3     (84)    23 \n",
      "          (-)       \n",
      "          /   \\      \n",
      "          96   12      \n"
     ]
    }
   ],
   "execution_count": 8
  },
  {
   "metadata": {},
   "cell_type": "markdown",
   "source": [
    "![Árbol binario que representa la operación matemática (96-12) x 23 + (-6)/(-3).](img.png)\n",
    "\n",
    "Árbol binario que representa la operación matemática (96-12) x 23 + (-6)/(-3).\n"
   ],
   "id": "d759b6e4b97c7eaf"
  },
  {
   "metadata": {
    "ExecuteTime": {
     "end_time": "2025-06-09T15:41:46.702773Z",
     "start_time": "2025-06-09T15:41:43.174858Z"
    }
   },
   "cell_type": "code",
   "source": [
    "multiplicacion = Multiplicacion(\n",
    "    Suma(\n",
    "        Valor(3),\n",
    "        Valor(5)\n",
    "    ),\n",
    "    Resta(\n",
    "        Valor(2),\n",
    "        Valor(1)\n",
    "    )\n",
    ")\n",
    "\n",
    "print(f\"El resultado de la multiplicacion es {multiplicacion.evaluar()}\")\n",
    "print(multiplicacion)\n"
   ],
   "id": "d6f34cfd427c9684",
   "outputs": [
    {
     "name": "stdout",
     "output_type": "stream",
     "text": [
      "El resultado de la multiplicacion es 8\n",
      "    (8) \n",
      "    (*) \n",
      "   /   \\\n",
      "(8)     (1) \n",
      "(+)     (-) \n",
      "/   \\    /   \\\n",
      "3   5    2   1\n"
     ]
    }
   ],
   "execution_count": 21
  }
 ],
 "metadata": {
  "kernelspec": {
   "display_name": "Python 3",
   "language": "python",
   "name": "python3"
  },
  "language_info": {
   "codemirror_mode": {
    "name": "ipython",
    "version": 2
   },
   "file_extension": ".py",
   "mimetype": "text/x-python",
   "name": "python",
   "nbconvert_exporter": "python",
   "pygments_lexer": "ipython2",
   "version": "2.7.6"
  }
 },
 "nbformat": 4,
 "nbformat_minor": 5
}
